{
  "nbformat": 4,
  "nbformat_minor": 0,
  "metadata": {
    "colab": {
      "name": "FastText.ipynb",
      "provenance": [],
      "collapsed_sections": [],
      "mount_file_id": "1zoSfaP2IiF9tOpDScnq7mRvwA6szn1Or",
      "authorship_tag": "ABX9TyNdNFp4XOGlO0OWolrVcGKG",
      "include_colab_link": true
    },
    "kernelspec": {
      "name": "python3",
      "display_name": "Python 3"
    },
    "accelerator": "GPU"
  },
  "cells": [
    {
      "cell_type": "markdown",
      "metadata": {
        "id": "view-in-github",
        "colab_type": "text"
      },
      "source": [
        "<a href=\"https://colab.research.google.com/github/remanx2558/MIDBReviews/blob/master/FastText.ipynb\" target=\"_parent\"><img src=\"https://colab.research.google.com/assets/colab-badge.svg\" alt=\"Open In Colab\"/></a>"
      ]
    },
    {
      "cell_type": "markdown",
      "metadata": {
        "id": "LExQWBBkwdox",
        "colab_type": "text"
      },
      "source": [
        "Part 1: SEE SEMENTIC SIMALARITY BEETWEEN WORDS"
      ]
    },
    {
      "cell_type": "markdown",
      "metadata": {
        "id": "jKCdUCuRw8WU",
        "colab_type": "text"
      },
      "source": [
        "FastText supports both Continuous Bag of Words and Skip-Gram models. Here I will implement the skip-gram model to learn vector representation of words from the Wikipedia articles on artificial intelligence, machine learning, deep learning, and neural networks. Since these topics are quite similar, I chose these topics to have a substantial amount of data to create a corpus. I can add more topics of the similar nature if I want."
      ]
    },
    {
      "cell_type": "markdown",
      "metadata": {
        "id": "5BgzLWlNxUlF",
        "colab_type": "text"
      },
      "source": [
        "As a first step, i need to import the required libraries. I will make use of the Wikipedia library for Python, which can be downloaded via the following command:"
      ]
    },
    {
      "cell_type": "code",
      "metadata": {
        "id": "V7JmfR_eaWdb",
        "colab_type": "code",
        "outputId": "f4c09b0c-c621-4cc9-a8b0-7920ede9bd0c",
        "colab": {
          "base_uri": "https://localhost:8080/",
          "height": 278
        }
      },
      "source": [
        " pip install wikipedia"
      ],
      "execution_count": 0,
      "outputs": [
        {
          "output_type": "stream",
          "text": [
            "Collecting wikipedia\n",
            "  Downloading https://files.pythonhosted.org/packages/67/35/25e68fbc99e672127cc6fbb14b8ec1ba3dfef035bf1e4c90f78f24a80b7d/wikipedia-1.4.0.tar.gz\n",
            "Requirement already satisfied: beautifulsoup4 in /usr/local/lib/python3.6/dist-packages (from wikipedia) (4.6.3)\n",
            "Requirement already satisfied: requests<3.0.0,>=2.0.0 in /usr/local/lib/python3.6/dist-packages (from wikipedia) (2.23.0)\n",
            "Requirement already satisfied: chardet<4,>=3.0.2 in /usr/local/lib/python3.6/dist-packages (from requests<3.0.0,>=2.0.0->wikipedia) (3.0.4)\n",
            "Requirement already satisfied: certifi>=2017.4.17 in /usr/local/lib/python3.6/dist-packages (from requests<3.0.0,>=2.0.0->wikipedia) (2020.4.5.1)\n",
            "Requirement already satisfied: urllib3!=1.25.0,!=1.25.1,<1.26,>=1.21.1 in /usr/local/lib/python3.6/dist-packages (from requests<3.0.0,>=2.0.0->wikipedia) (1.24.3)\n",
            "Requirement already satisfied: idna<3,>=2.5 in /usr/local/lib/python3.6/dist-packages (from requests<3.0.0,>=2.0.0->wikipedia) (2.9)\n",
            "Building wheels for collected packages: wikipedia\n",
            "  Building wheel for wikipedia (setup.py) ... \u001b[?25l\u001b[?25hdone\n",
            "  Created wheel for wikipedia: filename=wikipedia-1.4.0-cp36-none-any.whl size=11686 sha256=6f397a5b7c8d51ba8cfd34cf055bde5f620b30618de5033b742775c4f74b23de\n",
            "  Stored in directory: /root/.cache/pip/wheels/87/2a/18/4e471fd96d12114d16fe4a446d00c3b38fb9efcb744bd31f4a\n",
            "Successfully built wikipedia\n",
            "Installing collected packages: wikipedia\n",
            "Successfully installed wikipedia-1.4.0\n"
          ],
          "name": "stdout"
        }
      ]
    },
    {
      "cell_type": "markdown",
      "metadata": {
        "id": "wGWxB4-dyIYt",
        "colab_type": "text"
      },
      "source": [
        " Gensim model for FastText : This model can run on Windows, however, for text classification, we will have to use Linux platform. We will see that in the next section."
      ]
    },
    {
      "cell_type": "code",
      "metadata": {
        "id": "wxI1pAvJaaPs",
        "colab_type": "code",
        "outputId": "c16d69a4-dff3-4d7f-ce06-9a5b79c04447",
        "colab": {
          "base_uri": "https://localhost:8080/",
          "height": 139
        }
      },
      "source": [
        "from keras.preprocessing.text import Tokenizer\n",
        "from gensim.models.fasttext import FastText\n",
        "import numpy as np\n",
        "import matplotlib.pyplot as plt\n",
        "import nltk\n",
        "from string import punctuation\n",
        "from nltk.corpus import stopwords\n",
        "from nltk.tokenize import word_tokenize\n",
        "from nltk.stem import WordNetLemmatizer\n",
        "from nltk.tokenize import sent_tokenize\n",
        "from nltk import WordPunctTokenizer\n",
        "\n",
        "import wikipedia\n",
        "import nltk\n",
        "nltk.download('punkt')\n",
        "nltk.download('wordnet')\n",
        "nltk.download('stopwords')\n",
        "en_stop = set(nltk.corpus.stopwords.words('english'))\n",
        "\n",
        "%matplotlib inline"
      ],
      "execution_count": 0,
      "outputs": [
        {
          "output_type": "stream",
          "text": [
            "Using TensorFlow backend.\n"
          ],
          "name": "stderr"
        },
        {
          "output_type": "stream",
          "text": [
            "[nltk_data] Downloading package punkt to /root/nltk_data...\n",
            "[nltk_data]   Unzipping tokenizers/punkt.zip.\n",
            "[nltk_data] Downloading package wordnet to /root/nltk_data...\n",
            "[nltk_data]   Unzipping corpora/wordnet.zip.\n",
            "[nltk_data] Downloading package stopwords to /root/nltk_data...\n",
            "[nltk_data]   Unzipping corpora/stopwords.zip.\n"
          ],
          "name": "stdout"
        }
      ]
    },
    {
      "cell_type": "markdown",
      "metadata": {
        "id": "21WMQ21Gygjc",
        "colab_type": "text"
      },
      "source": [
        "Scraping Wikipedia Articles\n",
        "\n",
        "In this step,: scrape the required Wikipedia articles :"
      ]
    },
    {
      "cell_type": "code",
      "metadata": {
        "id": "tzS3dsUDaaSk",
        "colab_type": "code",
        "colab": {}
      },
      "source": [
        "artificial_intelligence = wikipedia.page(\"Artificial Intelligence\").content\n",
        "machine_learning = wikipedia.page(\"Machine Learning\").content\n",
        "deep_learning = wikipedia.page(\"Deep Learning\").content\n",
        "neural_network = wikipedia.page(\"Neural Network\").content\n",
        "\n",
        "artificial_intelligence = sent_tokenize(artificial_intelligence)\n",
        "machine_learning = sent_tokenize(machine_learning)\n",
        "deep_learning = sent_tokenize(deep_learning)\n",
        "neural_network = sent_tokenize(neural_network)\n",
        "\n",
        "artificial_intelligence.extend(machine_learning)\n",
        "artificial_intelligence.extend(deep_learning)\n",
        "artificial_intelligence.extend(neural_network)"
      ],
      "execution_count": 0,
      "outputs": []
    },
    {
      "cell_type": "markdown",
      "metadata": {
        "id": "47SlqohMaabR",
        "colab_type": "text"
      },
      "source": [
        "import re\n",
        "from nltk.stem import WordNetLemmatizer\n",
        "\n",
        "stemmer = WordNetLemmatizer()\n",
        "\n",
        "def preprocess_text(document):\n",
        "        # Remove all the special characters\n",
        "        document = re.sub(r'\\W', ' ', str(document))\n",
        "\n",
        "        # remove all single characters\n",
        "        document = re.sub(r'\\s+[a-zA-Z]\\s+', ' ', document)\n",
        "\n",
        "        # Remove single characters from the start\n",
        "        document = re.sub(r'\\^[a-zA-Z]\\s+', ' ', document)\n",
        "\n",
        "        # Substituting multiple spaces with single space\n",
        "        document = re.sub(r'\\s+', ' ', document, flags=re.I)\n",
        "\n",
        "        # Removing prefixed 'b'\n",
        "        document = re.sub(r'^b\\s+', '', document)\n",
        "\n",
        "        # Converting to Lowercase\n",
        "        document = document.lower()\n",
        "\n",
        "        # Lemmatization\n",
        "        tokens = document.split()\n",
        "        tokens = [stemmer.lemmatize(word) for word in tokens]\n",
        "        tokens = [word for word in tokens if word not in en_stop]\n",
        "        tokens = [word for word in tokens if len(word) > 3]\n",
        "\n",
        "        preprocessed_text = ' '.join(tokens)\n",
        "\n",
        "        return preprocessed_text"
      ]
    },
    {
      "cell_type": "code",
      "metadata": {
        "id": "vNmRJWCHaad9",
        "colab_type": "code",
        "outputId": "72788a00-8dec-488e-ce1b-5d99f68e8d2b",
        "colab": {
          "base_uri": "https://localhost:8080/",
          "height": 34
        }
      },
      "source": [
        "import re\n",
        "TAG_RE = re.compile(r'<[^>]+>')\n",
        "\n",
        "def remove_tags(text):\n",
        "    return TAG_RE.sub('', text)\n",
        "\n",
        "   \n",
        "\n"
      ],
      "execution_count": 0,
      "outputs": [
        {
          "output_type": "stream",
          "text": [
            "artificial intelligence advanced technology present\n"
          ],
          "name": "stdout"
        }
      ]
    },
    {
      "cell_type": "code",
      "metadata": {
        "id": "5lte0uAOaagL",
        "colab_type": "code",
        "colab": {}
      },
      "source": [
        "embedding_size = 60\n",
        "window_size = 40\n",
        "min_word = 5\n",
        "down_sampling = 1e-2"
      ],
      "execution_count": 0,
      "outputs": []
    },
    {
      "cell_type": "code",
      "metadata": {
        "id": "KuUs0Lejaalt",
        "colab_type": "code",
        "outputId": "81f03a8a-8226-4a32-eebe-44a69fae8cae",
        "colab": {
          "base_uri": "https://localhost:8080/",
          "height": 52
        }
      },
      "source": [
        "%%time\n",
        "ft_model = FastText(word_tokenized_corpus,\n",
        "                      size=embedding_size,\n",
        "                      window=window_size,\n",
        "                      min_count=min_word,\n",
        "                      sample=down_sampling,\n",
        "                      sg=1,\n",
        "                      iter=100)"
      ],
      "execution_count": 0,
      "outputs": [
        {
          "output_type": "stream",
          "text": [
            "CPU times: user 1min 14s, sys: 189 ms, total: 1min 14s\n",
            "Wall time: 38.7 s\n"
          ],
          "name": "stdout"
        }
      ]
    },
    {
      "cell_type": "code",
      "metadata": {
        "id": "aOoSyRSwaauP",
        "colab_type": "code",
        "outputId": "ff45c015-0757-4046-c69e-720dd0923c63",
        "colab": {
          "base_uri": "https://localhost:8080/",
          "height": 191
        }
      },
      "source": [
        "print(ft_model.wv['artificial'])"
      ],
      "execution_count": 0,
      "outputs": [
        {
          "output_type": "stream",
          "text": [
            "[-0.6629218   0.01485464  0.14321305  0.22388339  0.02050421 -0.4316767\n",
            "  0.21158832  0.05712915  0.28034797  0.08504593 -0.01721529  0.06676719\n",
            " -0.05847127  0.33813384 -0.25903216  0.03818923 -0.03181555 -0.04983433\n",
            " -0.03819727  0.03630586  0.8180793   0.00117197  0.23343539  0.13325253\n",
            "  0.5946695   0.35012928 -0.01725553  0.04843216  0.5824589   0.06362695\n",
            " -0.8870708   0.08401921  0.03855556 -0.27430525  0.18568075 -0.21159886\n",
            "  0.0948806   0.46864074  0.5091831  -0.2301913  -0.15308683 -0.50416595\n",
            "  0.29978427  0.19844466  0.2213223  -0.10571684 -0.0732915   0.28212425\n",
            " -0.07055888  0.18542342 -0.0853572   0.028009    0.03272703 -0.24227944\n",
            "  0.24257883  0.14206022  0.19876844 -0.15619017 -0.15519024  0.14915769]\n"
          ],
          "name": "stdout"
        }
      ]
    },
    {
      "cell_type": "code",
      "metadata": {
        "id": "uZtk7h_Naa1q",
        "colab_type": "code",
        "outputId": "09689d5f-52dd-43a7-a97a-29c322de6155",
        "colab": {
          "base_uri": "https://localhost:8080/",
          "height": 176
        }
      },
      "source": [
        "semantically_similar_words = {words: [item[0] for item in ft_model.wv.most_similar([words], topn=5)]\n",
        "                  for words in ['artificial', 'intelligence', 'machine', 'network', 'recurrent', 'deep']}\n",
        "\n",
        "for k,v in semantically_similar_words.items():\n",
        "    print(k+\":\"+str(v))"
      ],
      "execution_count": 0,
      "outputs": [
        {
          "output_type": "stream",
          "text": [
            "artificial:['intelligence', 'inspired', 'simulate', 'simulated', 'also']\n",
            "intelligence:['artificial', 'simulate', 'simulated', 'philosophy', 'machine']\n",
            "machine:['learning', 'ethic', 'concerned', 'intelligence', 'automated']\n",
            "network:['neural', 'biological', 'recurrent', 'perceptrons', 'deep']\n",
            "recurrent:['network', 'short', 'hopfield', 'neural', 'deep']\n",
            "deep:['learning', 'convolutional', 'generative', 'speech', 'recurrent']\n"
          ],
          "name": "stdout"
        },
        {
          "output_type": "stream",
          "text": [
            "/usr/local/lib/python3.6/dist-packages/gensim/matutils.py:737: FutureWarning: Conversion of the second argument of issubdtype from `int` to `np.signedinteger` is deprecated. In future, it will be treated as `np.int64 == np.dtype(int).type`.\n",
            "  if np.issubdtype(vec.dtype, np.int):\n"
          ],
          "name": "stderr"
        }
      ]
    },
    {
      "cell_type": "code",
      "metadata": {
        "id": "WGLYAuSsaazq",
        "colab_type": "code",
        "outputId": "e706e95d-db48-4ec5-e6c4-2cd582206a1f",
        "colab": {
          "base_uri": "https://localhost:8080/",
          "height": 89
        }
      },
      "source": [
        "print(ft_model.wv.similarity(w1='artificial', w2='intelligence'))"
      ],
      "execution_count": 0,
      "outputs": [
        {
          "output_type": "stream",
          "text": [
            "0.8591553\n"
          ],
          "name": "stdout"
        },
        {
          "output_type": "stream",
          "text": [
            "/usr/local/lib/python3.6/dist-packages/gensim/matutils.py:737: FutureWarning: Conversion of the second argument of issubdtype from `int` to `np.signedinteger` is deprecated. In future, it will be treated as `np.int64 == np.dtype(int).type`.\n",
            "  if np.issubdtype(vec.dtype, np.int):\n"
          ],
          "name": "stderr"
        }
      ]
    },
    {
      "cell_type": "code",
      "metadata": {
        "id": "xFeTvlyRaayS",
        "colab_type": "code",
        "outputId": "88967370-6454-49e1-d3dd-a137502d5640",
        "colab": {
          "base_uri": "https://localhost:8080/",
          "height": 89
        }
      },
      "source": [
        "from sklearn.decomposition import PCA\n",
        "\n",
        "all_similar_words = sum([[k] + v for k, v in semantically_similar_words.items()], [])\n",
        "\n",
        "print(all_similar_words)\n",
        "print(type(all_similar_words))\n",
        "print(len(all_similar_words))"
      ],
      "execution_count": 0,
      "outputs": [
        {
          "output_type": "stream",
          "text": [
            "['artificial', 'intelligence', 'inspired', 'simulate', 'simulated', 'also', 'intelligence', 'artificial', 'simulate', 'simulated', 'philosophy', 'machine', 'machine', 'learning', 'ethic', 'concerned', 'intelligence', 'automated', 'network', 'neural', 'biological', 'recurrent', 'perceptrons', 'deep', 'recurrent', 'network', 'short', 'hopfield', 'neural', 'deep', 'deep', 'learning', 'convolutional', 'generative', 'speech', 'recurrent']\n",
            "<class 'list'>\n",
            "36\n"
          ],
          "name": "stdout"
        }
      ]
    },
    {
      "cell_type": "code",
      "metadata": {
        "id": "6I-831n3aaq7",
        "colab_type": "code",
        "outputId": "470d9240-d378-4dab-8c75-6f2aa109dd34",
        "colab": {
          "base_uri": "https://localhost:8080/",
          "height": 592
        }
      },
      "source": [
        "word_vectors = ft_model.wv[all_similar_words]\n",
        "\n",
        "pca = PCA(n_components=2)\n",
        "\n",
        "p_comps = pca.fit_transform(word_vectors)\n",
        "word_names = all_similar_words\n",
        "\n",
        "plt.figure(figsize=(18, 10))\n",
        "plt.scatter(p_comps[:, 0], p_comps[:, 1], c='red')\n",
        "\n",
        "for word_names, x, y in zip(word_names, p_comps[:, 0], p_comps[:, 1]):\n",
        "    plt.annotate(word_names, xy=(x+0.06, y+0.03), xytext=(0, 0), textcoords='offset points')"
      ],
      "execution_count": 0,
      "outputs": [
        {
          "output_type": "display_data",
          "data": {
            "image/png": "[encoded data removed]",
            "text/plain": [
              "<Figure size 1296x720 with 1 Axes>"
            ]
          },
          "metadata": {
            "tags": [],
            "needs_background": "light"
          }
        }
      ]
    },
    {
      "cell_type": "code",
      "metadata": {
        "id": "fL0CGzLoaapS",
        "colab_type": "code",
        "colab": {}
      },
      "source": [
        ""
      ],
      "execution_count": 0,
      "outputs": []
    },
    {
      "cell_type": "code",
      "metadata": {
        "id": "CXHpbM5BdHYO",
        "colab_type": "code",
        "colab": {}
      },
      "source": [
        ""
      ],
      "execution_count": 0,
      "outputs": []
    },
    {
      "cell_type": "markdown",
      "metadata": {
        "id": "5aLHiyq9dK0h",
        "colab_type": "text"
      },
      "source": [
        "Article 5"
      ]
    },
    {
      "cell_type": "code",
      "metadata": {
        "id": "wJ-OqtFSdHio",
        "colab_type": "code",
        "outputId": "f62aff73-281c-48cb-afd8-48dd19681860",
        "colab": {
          "base_uri": "https://localhost:8080/",
          "height": 34
        }
      },
      "source": [
        "from google.colab import drive\n",
        "drive.mount('/content/drive')"
      ],
      "execution_count": 0,
      "outputs": [
        {
          "output_type": "stream",
          "text": [
            "Drive already mounted at /content/drive; to attempt to forcibly remount, call drive.mount(\"/content/drive\", force_remount=True).\n"
          ],
          "name": "stdout"
        }
      ]
    },
    {
      "cell_type": "code",
      "metadata": {
        "id": "_rdTcRwudHoo",
        "colab_type": "code",
        "outputId": "48a4dd97-4378-4717-8f99-6090662ee5ef",
        "colab": {
          "base_uri": "https://localhost:8080/",
          "height": 34
        }
      },
      "source": [
        "import pandas as pd\n",
        "import numpy as np\n",
        "\n",
        "yelp_reviews = pd.read_csv(r\"/content/drive/My Drive/malia/train.csv\")\n",
        "yelp_reviews.isnull().values.any()\n",
        "yelp_reviews.sentiment= yelp_reviews.sentiment.fillna(0.0).astype(int)#this will conver float into int and also manage missing values\n",
        "\n",
        "\n",
        "yelp_reviews.shape"
      ],
      "execution_count": 0,
      "outputs": [
        {
          "output_type": "execute_result",
          "data": {
            "text/plain": [
              "(25005, 2)"
            ]
          },
          "metadata": {
            "tags": []
          },
          "execution_count": 6
        }
      ]
    },
    {
      "cell_type": "code",
      "metadata": {
        "id": "fBSO7vsXw1RT",
        "colab_type": "code",
        "colab": {}
      },
      "source": [
        "import pandas as pd\n",
        "df = pd.DataFrame(yelp_reviews)\n",
        "\n",
        "def tran_mathscore(y):\n",
        "    if y == 1 :\n",
        "      return \"positive\"\n",
        "    if y == 0 :\n",
        "      return \"negative\"   \n",
        "\n",
        "df['sentiment'] = df['sentiment'].apply(tran_mathscore)"
      ],
      "execution_count": 0,
      "outputs": []
    },
    {
      "cell_type": "code",
      "metadata": {
        "id": "S6GJHd4nw1gc",
        "colab_type": "code",
        "colab": {}
      },
      "source": [
        ""
      ],
      "execution_count": 0,
      "outputs": []
    },
    {
      "cell_type": "code",
      "metadata": {
        "id": "KFBxg0P2xB3_",
        "colab_type": "code",
        "colab": {}
      },
      "source": [
        ""
      ],
      "execution_count": 0,
      "outputs": []
    },
    {
      "cell_type": "code",
      "metadata": {
        "id": "ZZL-SjZNxCBO",
        "colab_type": "code",
        "colab": {}
      },
      "source": [
        ""
      ],
      "execution_count": 0,
      "outputs": []
    },
    {
      "cell_type": "code",
      "metadata": {
        "id": "HSt93MXoxB-H",
        "colab_type": "code",
        "colab": {}
      },
      "source": [
        ""
      ],
      "execution_count": 0,
      "outputs": []
    },
    {
      "cell_type": "code",
      "metadata": {
        "id": "LWfWzebCxB7j",
        "colab_type": "code",
        "colab": {}
      },
      "source": [
        ""
      ],
      "execution_count": 0,
      "outputs": []
    },
    {
      "cell_type": "code",
      "metadata": {
        "id": "dEQEf37sdHrg",
        "colab_type": "code",
        "outputId": "fd107d91-7cc1-4cc6-e8fd-52360eccb96c",
        "colab": {
          "base_uri": "https://localhost:8080/",
          "height": 295
        }
      },
      "source": [
        "!wget https://github.com/facebookresearch/fastText/archive/v0.1.0.zip\n"
      ],
      "execution_count": 0,
      "outputs": [
        {
          "output_type": "stream",
          "text": [
            "--2020-05-29 08:03:53--  https://github.com/facebookresearch/fastText/archive/v0.1.0.zip\n",
            "Resolving github.com (github.com)... 140.82.118.4\n",
            "Connecting to github.com (github.com)|140.82.118.4|:443... connected.\n",
            "HTTP request sent, awaiting response... 302 Found\n",
            "Location: https://codeload.github.com/facebookresearch/fastText/zip/v0.1.0 [following]\n",
            "--2020-05-29 08:03:53--  https://codeload.github.com/facebookresearch/fastText/zip/v0.1.0\n",
            "Resolving codeload.github.com (codeload.github.com)... 140.82.114.10\n",
            "Connecting to codeload.github.com (codeload.github.com)|140.82.114.10|:443... connected.\n",
            "HTTP request sent, awaiting response... 200 OK\n",
            "Length: unspecified [application/zip]\n",
            "Saving to: ‘v0.1.0.zip’\n",
            "\n",
            "v0.1.0.zip              [  <=>               ]  92.06K   361KB/s    in 0.3s    \n",
            "\n",
            "2020-05-29 08:03:54 (361 KB/s) - ‘v0.1.0.zip’ saved [94267]\n",
            "\n"
          ],
          "name": "stdout"
        }
      ]
    },
    {
      "cell_type": "code",
      "metadata": {
        "id": "0BdBFhEbdHuY",
        "colab_type": "code",
        "outputId": "4a5b51d7-cb1f-42d1-b565-a9923367738f",
        "colab": {
          "base_uri": "https://localhost:8080/",
          "height": 764
        }
      },
      "source": [
        "!unzip v0.1.0.zip"
      ],
      "execution_count": 0,
      "outputs": [
        {
          "output_type": "stream",
          "text": [
            "Archive:  v0.1.0.zip\n",
            "431c9e2a9b5149369cc60fb9f5beba58dcf8ca17\n",
            "   creating: fastText-0.1.0/\n",
            "  inflating: fastText-0.1.0/.gitignore  \n",
            "  inflating: fastText-0.1.0/CONTRIBUTING.md  \n",
            "  inflating: fastText-0.1.0/LICENSE  \n",
            "  inflating: fastText-0.1.0/Makefile  \n",
            "  inflating: fastText-0.1.0/PATENTS  \n",
            "  inflating: fastText-0.1.0/README.md  \n",
            "  inflating: fastText-0.1.0/classification-example.sh  \n",
            "  inflating: fastText-0.1.0/classification-results.sh  \n",
            "  inflating: fastText-0.1.0/eval.py  \n",
            "  inflating: fastText-0.1.0/get-wikimedia.sh  \n",
            "  inflating: fastText-0.1.0/pretrained-vectors.md  \n",
            "  inflating: fastText-0.1.0/quantization-example.sh  \n",
            "  inflating: fastText-0.1.0/quantization-results.sh  \n",
            "   creating: fastText-0.1.0/src/\n",
            "  inflating: fastText-0.1.0/src/args.cc  \n",
            "  inflating: fastText-0.1.0/src/args.h  \n",
            "  inflating: fastText-0.1.0/src/dictionary.cc  \n",
            "  inflating: fastText-0.1.0/src/dictionary.h  \n",
            "  inflating: fastText-0.1.0/src/fasttext.cc  \n",
            "  inflating: fastText-0.1.0/src/fasttext.h  \n",
            "  inflating: fastText-0.1.0/src/main.cc  \n",
            "  inflating: fastText-0.1.0/src/matrix.cc  \n",
            "  inflating: fastText-0.1.0/src/matrix.h  \n",
            "  inflating: fastText-0.1.0/src/model.cc  \n",
            "  inflating: fastText-0.1.0/src/model.h  \n",
            "  inflating: fastText-0.1.0/src/productquantizer.cc  \n",
            "  inflating: fastText-0.1.0/src/productquantizer.h  \n",
            "  inflating: fastText-0.1.0/src/qmatrix.cc  \n",
            "  inflating: fastText-0.1.0/src/qmatrix.h  \n",
            "  inflating: fastText-0.1.0/src/real.h  \n",
            "  inflating: fastText-0.1.0/src/utils.cc  \n",
            "  inflating: fastText-0.1.0/src/utils.h  \n",
            "  inflating: fastText-0.1.0/src/vector.cc  \n",
            "  inflating: fastText-0.1.0/src/vector.h  \n",
            "   creating: fastText-0.1.0/tutorials/\n",
            "  inflating: fastText-0.1.0/tutorials/cbo_vs_skipgram.png  \n",
            "  inflating: fastText-0.1.0/tutorials/supervised-learning.md  \n",
            "  inflating: fastText-0.1.0/tutorials/unsupervised-learning.md  \n",
            "  inflating: fastText-0.1.0/wikifil.pl  \n",
            "  inflating: fastText-0.1.0/word-vector-example.sh  \n"
          ],
          "name": "stdout"
        }
      ]
    },
    {
      "cell_type": "code",
      "metadata": {
        "id": "kaerJ4ywdH2_",
        "colab_type": "code",
        "outputId": "92766bfc-51df-49a3-ae9b-2ce3a900179e",
        "colab": {
          "base_uri": "https://localhost:8080/",
          "height": 34
        }
      },
      "source": [
        "cd /content/fastText-0.1.0/\n"
      ],
      "execution_count": 0,
      "outputs": [
        {
          "output_type": "stream",
          "text": [
            "/content/fastText-0.1.0\n"
          ],
          "name": "stdout"
        }
      ]
    },
    {
      "cell_type": "code",
      "metadata": {
        "id": "IA3f5Ly1dH5-",
        "colab_type": "code",
        "outputId": "e2e517b9-7863-492d-9a53-2ec26ac8bb89",
        "colab": {
          "base_uri": "https://localhost:8080/",
          "height": 191
        }
      },
      "source": [
        "!make"
      ],
      "execution_count": 0,
      "outputs": [
        {
          "output_type": "stream",
          "text": [
            "c++ -pthread -std=c++0x -O3 -funroll-loops -c src/args.cc\n",
            "c++ -pthread -std=c++0x -O3 -funroll-loops -c src/dictionary.cc\n",
            "c++ -pthread -std=c++0x -O3 -funroll-loops -c src/productquantizer.cc\n",
            "c++ -pthread -std=c++0x -O3 -funroll-loops -c src/matrix.cc\n",
            "c++ -pthread -std=c++0x -O3 -funroll-loops -c src/qmatrix.cc\n",
            "c++ -pthread -std=c++0x -O3 -funroll-loops -c src/vector.cc\n",
            "c++ -pthread -std=c++0x -O3 -funroll-loops -c src/model.cc\n",
            "c++ -pthread -std=c++0x -O3 -funroll-loops -c src/utils.cc\n",
            "c++ -pthread -std=c++0x -O3 -funroll-loops -c src/fasttext.cc\n",
            "c++ -pthread -std=c++0x -O3 -funroll-loops args.o dictionary.o productquantizer.o matrix.o qmatrix.o vector.o model.o utils.o fasttext.o src/main.cc -o fasttext\n"
          ],
          "name": "stdout"
        }
      ]
    },
    {
      "cell_type": "code",
      "metadata": {
        "id": "-YRJwz11dICb",
        "colab_type": "code",
        "outputId": "2042c791-a6bf-45b2-c736-11231a7556bc",
        "colab": {
          "base_uri": "https://localhost:8080/",
          "height": 295
        }
      },
      "source": [
        "!./fasttext"
      ],
      "execution_count": 0,
      "outputs": [
        {
          "output_type": "stream",
          "text": [
            "usage: fasttext <command> <args>\n",
            "\n",
            "The commands supported by fasttext are:\n",
            "\n",
            "  supervised              train a supervised classifier\n",
            "  quantize                quantize a model to reduce the memory usage\n",
            "  test                    evaluate a supervised classifier\n",
            "  predict                 predict most likely labels\n",
            "  predict-prob            predict most likely labels with probabilities\n",
            "  skipgram                train a skipgram model\n",
            "  cbow                    train a cbow model\n",
            "  print-word-vectors      print word vectors given a trained model\n",
            "  print-sentence-vectors  print sentence vectors given a trained model\n",
            "  nn                      query for nearest neighbors\n",
            "  analogies               query for analogies\n",
            "\n"
          ],
          "name": "stdout"
        }
      ]
    },
    {
      "cell_type": "code",
      "metadata": {
        "id": "tfnfAbNIdIIP",
        "colab_type": "code",
        "colab": {}
      },
      "source": [
        "#_label_tag This is sentence 1\n",
        "#_label_tag2 This is sentence 2.\n",
        "#__label__positive burgers are very big portions here.\n"
      ],
      "execution_count": 0,
      "outputs": []
    },
    {
      "cell_type": "code",
      "metadata": {
        "id": "dkpdPiMLdILd",
        "colab_type": "code",
        "colab": {}
      },
      "source": [
        "import pandas as pd\n",
        "from io import StringIO\n",
        "import csv\n",
        "\n",
        "col = ['sentiment', 'text']\n",
        "\n",
        "yelp_reviews = yelp_reviews[col]\n",
        "\n",
        "import pandas as pd\n",
        "from io import StringIO\n",
        "import csv\n",
        "\n",
        "col = ['sentiment', 'text']\n",
        "\n",
        "yelp_reviews = yelp_reviews[col]\n",
        "yelp_reviews['sentiment']=['__label__'+ s for s in yelp_reviews['sentiment']]\n",
        "yelp_reviews['text']= yelp_reviews['text'].replace('\\n',' ', regex=True).replace('\\t',' ', regex=True)\n",
        "yelp_reviews.to_csv(r\"/content/drive/My Drive/malia/yelp_reviews_updated.txt\", index=False, sep=' ', header=False, quoting=csv.QUOTE_NONE, quotechar=\"\", escapechar=\" \")"
      ],
      "execution_count": 0,
      "outputs": []
    },
    {
      "cell_type": "code",
      "metadata": {
        "id": "9WJXgmVadIOM",
        "colab_type": "code",
        "outputId": "c0d36be7-29bd-49e0-9811-9c9de8053606",
        "colab": {
          "base_uri": "https://localhost:8080/",
          "height": 206
        }
      },
      "source": [
        "yelp_reviews.head()\n"
      ],
      "execution_count": 0,
      "outputs": [
        {
          "output_type": "execute_result",
          "data": {
            "text/html": [
              "<div>\n",
              "<style scoped>\n",
              "    .dataframe tbody tr th:only-of-type {\n",
              "        vertical-align: middle;\n",
              "    }\n",
              "\n",
              "    .dataframe tbody tr th {\n",
              "        vertical-align: top;\n",
              "    }\n",
              "\n",
              "    .dataframe thead th {\n",
              "        text-align: right;\n",
              "    }\n",
              "</style>\n",
              "<table border=\"1\" class=\"dataframe\">\n",
              "  <thead>\n",
              "    <tr style=\"text-align: right;\">\n",
              "      <th></th>\n",
              "      <th>sentiment</th>\n",
              "      <th>text</th>\n",
              "    </tr>\n",
              "  </thead>\n",
              "  <tbody>\n",
              "    <tr>\n",
              "      <th>0</th>\n",
              "      <td>__label__negative</td>\n",
              "      <td>For a movie that gets no respect there sure ar...</td>\n",
              "    </tr>\n",
              "    <tr>\n",
              "      <th>1</th>\n",
              "      <td>__label__negative</td>\n",
              "      <td>Bizarre horror movie filled with famous faces ...</td>\n",
              "    </tr>\n",
              "    <tr>\n",
              "      <th>2</th>\n",
              "      <td>__label__negative</td>\n",
              "      <td>A solid, if unremarkable film. Matthau, as Ein...</td>\n",
              "    </tr>\n",
              "    <tr>\n",
              "      <th>3</th>\n",
              "      <td>__label__negative</td>\n",
              "      <td>It's a strange feeling to sit alone in a theat...</td>\n",
              "    </tr>\n",
              "    <tr>\n",
              "      <th>4</th>\n",
              "      <td>__label__negative</td>\n",
              "      <td>You probably all already know this by now, but...</td>\n",
              "    </tr>\n",
              "  </tbody>\n",
              "</table>\n",
              "</div>"
            ],
            "text/plain": [
              "           sentiment                                               text\n",
              "0  __label__negative  For a movie that gets no respect there sure ar...\n",
              "1  __label__negative  Bizarre horror movie filled with famous faces ...\n",
              "2  __label__negative  A solid, if unremarkable film. Matthau, as Ein...\n",
              "3  __label__negative  It's a strange feeling to sit alone in a theat...\n",
              "4  __label__negative  You probably all already know this by now, but..."
            ]
          },
          "metadata": {
            "tags": []
          },
          "execution_count": 82
        }
      ]
    },
    {
      "cell_type": "code",
      "metadata": {
        "id": "3mL9c-GAdIVs",
        "colab_type": "code",
        "outputId": "22cd094e-0b84-4c95-c921-7b69b96f1d58",
        "colab": {
          "base_uri": "https://localhost:8080/",
          "height": 206
        }
      },
      "source": [
        "yelp_reviews.tail()\n"
      ],
      "execution_count": 0,
      "outputs": [
        {
          "output_type": "execute_result",
          "data": {
            "text/html": [
              "<div>\n",
              "<style scoped>\n",
              "    .dataframe tbody tr th:only-of-type {\n",
              "        vertical-align: middle;\n",
              "    }\n",
              "\n",
              "    .dataframe tbody tr th {\n",
              "        vertical-align: top;\n",
              "    }\n",
              "\n",
              "    .dataframe thead th {\n",
              "        text-align: right;\n",
              "    }\n",
              "</style>\n",
              "<table border=\"1\" class=\"dataframe\">\n",
              "  <thead>\n",
              "    <tr style=\"text-align: right;\">\n",
              "      <th></th>\n",
              "      <th>sentiment</th>\n",
              "      <th>text</th>\n",
              "    </tr>\n",
              "  </thead>\n",
              "  <tbody>\n",
              "    <tr>\n",
              "      <th>25000</th>\n",
              "      <td>__label__positive</td>\n",
              "      <td>My comments may be a bit of a spoiler, for wha...</td>\n",
              "    </tr>\n",
              "    <tr>\n",
              "      <th>25001</th>\n",
              "      <td>__label__positive</td>\n",
              "      <td>The \"saucy\" misadventures of four au pairs who...</td>\n",
              "    </tr>\n",
              "    <tr>\n",
              "      <th>25002</th>\n",
              "      <td>__label__positive</td>\n",
              "      <td>Oh, those Italians! Assuming that movies about...</td>\n",
              "    </tr>\n",
              "    <tr>\n",
              "      <th>25003</th>\n",
              "      <td>__label__positive</td>\n",
              "      <td>Eight academy nominations? It's beyond belief....</td>\n",
              "    </tr>\n",
              "    <tr>\n",
              "      <th>25004</th>\n",
              "      <td>__label__positive</td>\n",
              "      <td>Not that I dislike childrens movies, but this ...</td>\n",
              "    </tr>\n",
              "  </tbody>\n",
              "</table>\n",
              "</div>"
            ],
            "text/plain": [
              "               sentiment                                               text\n",
              "25000  __label__positive  My comments may be a bit of a spoiler, for wha...\n",
              "25001  __label__positive  The \"saucy\" misadventures of four au pairs who...\n",
              "25002  __label__positive  Oh, those Italians! Assuming that movies about...\n",
              "25003  __label__positive  Eight academy nominations? It's beyond belief....\n",
              "25004  __label__positive  Not that I dislike childrens movies, but this ..."
            ]
          },
          "metadata": {
            "tags": []
          },
          "execution_count": 83
        }
      ]
    },
    {
      "cell_type": "code",
      "metadata": {
        "id": "C9XFs-jKdIhT",
        "colab_type": "code",
        "colab": {}
      },
      "source": [
        "!head -n 40000 \"/content/drive/My Drive/malia/yelp_reviews_updated.txt\" > \"/content/drive/My Drive/malia/yelp_reviews_train.txt\"\n",
        "!tail -n 10000 \"/content/drive/My Drive/malia/yelp_reviews_updated.txt\" > \"/content/drive/My Drive/malia/yelp_reviews_test.txt\""
      ],
      "execution_count": 0,
      "outputs": []
    },
    {
      "cell_type": "code",
      "metadata": {
        "id": "-VArDt5edImL",
        "colab_type": "code",
        "outputId": "9f485e5e-a05a-4e2d-8bca-f438e5d5f01a",
        "colab": {
          "base_uri": "https://localhost:8080/",
          "height": 121
        }
      },
      "source": [
        "%%time\n",
        "!./fasttext supervised -input \"/content/drive/My Drive/malia/yelp_reviews_train.txt\" -output model_yelp_reviews"
      ],
      "execution_count": 0,
      "outputs": [
        {
          "output_type": "stream",
          "text": [
            "\rRead 1M words\rRead 2M words\rRead 3M words\rRead 4M words\rRead 5M words\rRead 5M words\n",
            "Number of words:  264871\n",
            "Number of labels: 2\n",
            "Progress: 100.0%  words/sec/thread: 4050982  lr: 0.000000  loss: 0.507712  eta: 0h0m \n",
            "CPU times: user 70.7 ms, sys: 14.4 ms, total: 85.1 ms\n",
            "Wall time: 18.6 s\n"
          ],
          "name": "stdout"
        }
      ]
    },
    {
      "cell_type": "code",
      "metadata": {
        "id": "XonWAjJ0dIjU",
        "colab_type": "code",
        "outputId": "4f1ffd7c-0a44-47e6-ff3f-b650479fd782",
        "colab": {
          "base_uri": "https://localhost:8080/",
          "height": 191
        }
      },
      "source": [
        "!ls"
      ],
      "execution_count": 0,
      "outputs": [
        {
          "output_type": "stream",
          "text": [
            "args.o\t\t\t   Makefile\t\t    quantization-results.sh\n",
            "classification-example.sh  matrix.o\t\t    README.md\n",
            "classification-results.sh  model.o\t\t    src\n",
            "CONTRIBUTING.md\t\t   model_yelp_reviews.bin   tutorials\n",
            "dictionary.o\t\t   model_yelp_reviews.vec   utils.o\n",
            "eval.py\t\t\t   PATENTS\t\t    vector.o\n",
            "fasttext\t\t   pretrained-vectors.md    wikifil.pl\n",
            "fasttext.o\t\t   productquantizer.o\t    word-vector-example.sh\n",
            "get-wikimedia.sh\t   qmatrix.o\n",
            "LICENSE\t\t\t   quantization-example.sh\n"
          ],
          "name": "stdout"
        }
      ]
    },
    {
      "cell_type": "code",
      "metadata": {
        "id": "rcbunaVbdIgA",
        "colab_type": "code",
        "outputId": "35f025e9-c024-4f4b-f4fc-e217b2c6098f",
        "colab": {
          "base_uri": "https://localhost:8080/",
          "height": 34
        }
      },
      "source": [
        "!make"
      ],
      "execution_count": 0,
      "outputs": [
        {
          "output_type": "stream",
          "text": [
            "make: Nothing to be done for 'opt'.\n"
          ],
          "name": "stdout"
        }
      ]
    },
    {
      "cell_type": "code",
      "metadata": {
        "id": "vgMfIByIdIeW",
        "colab_type": "code",
        "outputId": "c520e821-4ff6-483e-a309-f74dfbeb1ea2",
        "colab": {
          "base_uri": "https://localhost:8080/",
          "height": 295
        }
      },
      "source": [
        "\n",
        "!./fasttext"
      ],
      "execution_count": 0,
      "outputs": [
        {
          "output_type": "stream",
          "text": [
            "usage: fasttext <command> <args>\n",
            "\n",
            "The commands supported by fasttext are:\n",
            "\n",
            "  supervised              train a supervised classifier\n",
            "  quantize                quantize a model to reduce the memory usage\n",
            "  test                    evaluate a supervised classifier\n",
            "  predict                 predict most likely labels\n",
            "  predict-prob            predict most likely labels with probabilities\n",
            "  skipgram                train a skipgram model\n",
            "  cbow                    train a cbow model\n",
            "  print-word-vectors      print word vectors given a trained model\n",
            "  print-sentence-vectors  print sentence vectors given a trained model\n",
            "  nn                      query for nearest neighbors\n",
            "  analogies               query for analogies\n",
            "\n"
          ],
          "name": "stdout"
        }
      ]
    },
    {
      "cell_type": "code",
      "metadata": {
        "id": "PS_tLtF_dIb2",
        "colab_type": "code",
        "outputId": "a2027a23-5452-4100-e7a1-10ac45b29720",
        "colab": {
          "base_uri": "https://localhost:8080/",
          "height": 86
        }
      },
      "source": [
        "!./fasttext test model_yelp_reviews.bin \"/content/drive/My Drive/malia/yelp_reviews_test.txt\""
      ],
      "execution_count": 0,
      "outputs": [
        {
          "output_type": "stream",
          "text": [
            "N\t10000\n",
            "P@1\t0.843\n",
            "R@1\t0.843\n",
            "Number of examples: 10000\n"
          ],
          "name": "stdout"
        }
      ]
    },
    {
      "cell_type": "code",
      "metadata": {
        "id": "l4YAx2kRdIS-",
        "colab_type": "code",
        "colab": {}
      },
      "source": [
        "!cat \"/content/drive/My Drive/malia/yelp_reviews_train.txt\" | sed -e \"s/\\([.\\!?,’/()]\\)/ \\1 /g\" | tr \"[:upper:]\" \"[:lower:]\" > \"/content/drive/My Drive/malia/yelp_reviews_train_clean.txt\""
      ],
      "execution_count": 0,
      "outputs": []
    },
    {
      "cell_type": "code",
      "metadata": {
        "id": "4lkumhLadIRQ",
        "colab_type": "code",
        "colab": {}
      },
      "source": [
        "!cat \"/content/drive/My Drive/malia/yelp_reviews_test.txt\" | sed -e \"s/\\([.\\!?,’/()]\\)/ \\1 /g\" | tr \"[:upper:]\" \"[:lower:]\" > \"/content/drive/My Drive/malia/yelp_reviews_test_clean.txt\""
      ],
      "execution_count": 0,
      "outputs": []
    },
    {
      "cell_type": "code",
      "metadata": {
        "id": "2Pcxf4sMdIF7",
        "colab_type": "code",
        "outputId": "387e351d-6140-4c0f-9580-65cdbe7a9113",
        "colab": {
          "base_uri": "https://localhost:8080/",
          "height": 121
        }
      },
      "source": [
        "%%time\n",
        "!./fasttext supervised -input \"/content/drive/My Drive/malia/yelp_reviews_train_clean.txt\" -output model_yelp_reviews"
      ],
      "execution_count": 0,
      "outputs": [
        {
          "output_type": "stream",
          "text": [
            "\rRead 1M words\rRead 2M words\rRead 3M words\rRead 4M words\rRead 5M words\rRead 6M words\rRead 6M words\n",
            "Number of words:  130282\n",
            "Number of labels: 2\n",
            "Progress: 100.0%  words/sec/thread: 4779617  lr: 0.000000  loss: 0.513662  eta: 0h0m \n",
            "CPU times: user 49.4 ms, sys: 17.3 ms, total: 66.7 ms\n",
            "Wall time: 11.8 s\n"
          ],
          "name": "stdout"
        }
      ]
    },
    {
      "cell_type": "code",
      "metadata": {
        "id": "HZojkXXhdH_t",
        "colab_type": "code",
        "outputId": "fc16d181-1866-472e-99b1-50c543c718d2",
        "colab": {
          "base_uri": "https://localhost:8080/",
          "height": 86
        }
      },
      "source": [
        "!./fasttext test model_yelp_reviews.bin \"/content/drive/My Drive/malia/yelp_reviews_test_clean.txt\""
      ],
      "execution_count": 0,
      "outputs": [
        {
          "output_type": "stream",
          "text": [
            "N\t10000\n",
            "P@1\t0.888\n",
            "R@1\t0.888\n",
            "Number of examples: 10000\n"
          ],
          "name": "stdout"
        }
      ]
    },
    {
      "cell_type": "code",
      "metadata": {
        "id": "OAfAm0LadH9y",
        "colab_type": "code",
        "outputId": "d66f2e7b-c4b8-4f7c-c1b0-1c5f504429ee",
        "colab": {
          "base_uri": "https://localhost:8080/",
          "height": 121
        }
      },
      "source": [
        "%%time\n",
        "!./fasttext supervised -input \"/content/drive/My Drive/malia/yelp_reviews_train_clean.txt\" -output model_yelp_reviews -epoch 30 -lr 0.5\n"
      ],
      "execution_count": 0,
      "outputs": [
        {
          "output_type": "stream",
          "text": [
            "\rRead 1M words\rRead 2M words\rRead 3M words\rRead 4M words\rRead 5M words\rRead 6M words\rRead 6M words\n",
            "Number of words:  130282\n",
            "Number of labels: 2\n",
            "Progress: 100.0%  words/sec/thread: 4804058  lr: 0.000000  loss: 0.224555  eta: 0h0m \n",
            "CPU times: user 238 ms, sys: 63.8 ms, total: 302 ms\n",
            "Wall time: 30.5 s\n"
          ],
          "name": "stdout"
        }
      ]
    },
    {
      "cell_type": "code",
      "metadata": {
        "id": "FDWHiDYydH0Y",
        "colab_type": "code",
        "colab": {}
      },
      "source": [
        ""
      ],
      "execution_count": 0,
      "outputs": []
    },
    {
      "cell_type": "code",
      "metadata": {
        "id": "T-1bAa3UdHyZ",
        "colab_type": "code",
        "colab": {}
      },
      "source": [
        ""
      ],
      "execution_count": 0,
      "outputs": []
    },
    {
      "cell_type": "code",
      "metadata": {
        "id": "5jHYE2mZdHlf",
        "colab_type": "code",
        "colab": {}
      },
      "source": [
        ""
      ],
      "execution_count": 0,
      "outputs": []
    },
    {
      "cell_type": "code",
      "metadata": {
        "id": "dU0b9PqmdHf9",
        "colab_type": "code",
        "colab": {}
      },
      "source": [
        ""
      ],
      "execution_count": 0,
      "outputs": []
    },
    {
      "cell_type": "code",
      "metadata": {
        "id": "hZYw4IjzdHeS",
        "colab_type": "code",
        "colab": {}
      },
      "source": [
        ""
      ],
      "execution_count": 0,
      "outputs": []
    },
    {
      "cell_type": "code",
      "metadata": {
        "id": "jCMAyohXqExA",
        "colab_type": "code",
        "colab": {}
      },
      "source": [
        ""
      ],
      "execution_count": 0,
      "outputs": []
    },
    {
      "cell_type": "code",
      "metadata": {
        "id": "PZx4G95XqEuB",
        "colab_type": "code",
        "colab": {}
      },
      "source": [
        ""
      ],
      "execution_count": 0,
      "outputs": []
    },
    {
      "cell_type": "code",
      "metadata": {
        "id": "aV0sjgQ9qEsC",
        "colab_type": "code",
        "colab": {}
      },
      "source": [
        ""
      ],
      "execution_count": 0,
      "outputs": []
    },
    {
      "cell_type": "code",
      "metadata": {
        "id": "Vp4swQoBqEl_",
        "colab_type": "code",
        "colab": {}
      },
      "source": [
        ""
      ],
      "execution_count": 0,
      "outputs": []
    },
    {
      "cell_type": "code",
      "metadata": {
        "id": "u-wDVvSWqEkI",
        "colab_type": "code",
        "colab": {}
      },
      "source": [
        ""
      ],
      "execution_count": 0,
      "outputs": []
    },
    {
      "cell_type": "code",
      "metadata": {
        "id": "0_tpJlNtqEeR",
        "colab_type": "code",
        "colab": {}
      },
      "source": [
        ""
      ],
      "execution_count": 0,
      "outputs": []
    },
    {
      "cell_type": "code",
      "metadata": {
        "id": "osu7aJTlqEbi",
        "colab_type": "code",
        "colab": {}
      },
      "source": [
        ""
      ],
      "execution_count": 0,
      "outputs": []
    },
    {
      "cell_type": "code",
      "metadata": {
        "id": "Cwq9XDvnqEYz",
        "colab_type": "code",
        "colab": {}
      },
      "source": [
        ""
      ],
      "execution_count": 0,
      "outputs": []
    },
    {
      "cell_type": "code",
      "metadata": {
        "id": "dq6KIP2cqEWq",
        "colab_type": "code",
        "colab": {}
      },
      "source": [
        ""
      ],
      "execution_count": 0,
      "outputs": []
    }
  ]
}
